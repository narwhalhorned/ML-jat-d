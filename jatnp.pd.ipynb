{
 "cells": [
  {
   "cell_type": "code",
   "execution_count": 7,
   "id": "dde0ec5f",
   "metadata": {},
   "outputs": [],
   "source": [
    "import pandas as pd\n",
    "import numpy as np"
   ]
  },
  {
   "cell_type": "code",
   "execution_count": 8,
   "id": "d9a524fe",
   "metadata": {
    "scrolled": true
   },
   "outputs": [],
   "source": [
    "np.set_printoptions (precision=3, suppress=True)\n",
    "import tensorflow as tf\n",
    "from tensorflow.keras import layers\n",
    "abalone_train = pd.read_csv(\"abalone.data\",\n",
    "    names=[\"Length\", \"Diameter\", \"Height\", \"Whole weight\", \"Shucked weight\",\n",
    "            \"viscera weight\", \"Shell weight\", \"Age\"])\n",
    "\n"
   ]
  },
  {
   "cell_type": "code",
   "execution_count": 9,
   "id": "754f3f27",
   "metadata": {},
   "outputs": [
    {
     "data": {
      "text/plain": [
       "M    15\n",
       "M     7\n",
       "F     9\n",
       "M    10\n",
       "I     7\n",
       "Name: Age, dtype: int64"
      ]
     },
     "execution_count": 9,
     "metadata": {},
     "output_type": "execute_result"
    }
   ],
   "source": [
    "\n",
    "\n",
    "abalone_features = abalone_train.copy() #input\n",
    "abalone_labels = abalone_features.pop('Age') #labels\n",
    "abalone_labels.head()"
   ]
  },
  {
   "cell_type": "code",
   "execution_count": 10,
   "id": "fbc6d804",
   "metadata": {},
   "outputs": [
    {
     "data": {
      "text/plain": [
       "array([[0.455, 0.365, 0.095, ..., 0.225, 0.101, 0.15 ],\n",
       "       [0.35 , 0.265, 0.09 , ..., 0.1  , 0.049, 0.07 ],\n",
       "       [0.53 , 0.42 , 0.135, ..., 0.257, 0.141, 0.21 ],\n",
       "       ...,\n",
       "       [0.6  , 0.475, 0.205, ..., 0.525, 0.287, 0.308],\n",
       "       [0.625, 0.485, 0.15 , ..., 0.531, 0.261, 0.296],\n",
       "       [0.71 , 0.555, 0.195, ..., 0.946, 0.377, 0.495]])"
      ]
     },
     "execution_count": 10,
     "metadata": {},
     "output_type": "execute_result"
    }
   ],
   "source": [
    "abalone_features_np = np.array(abalone_features)\n",
    "abalone_features_np"
   ]
  },
  {
   "cell_type": "code",
   "execution_count": 11,
   "id": "5709de58",
   "metadata": {},
   "outputs": [
    {
     "data": {
      "text/plain": [
       "(4177, 7)"
      ]
     },
     "execution_count": 11,
     "metadata": {},
     "output_type": "execute_result"
    }
   ],
   "source": [
    "abalone_features_np.shape"
   ]
  },
  {
   "cell_type": "code",
   "execution_count": 12,
   "id": "e7b330fd",
   "metadata": {},
   "outputs": [],
   "source": [
    "abalone_modele1 = tf.keras.Sequential([\n",
    "  layers.Dense(64),\n",
    "  layers.Dense(1)\n",
    "])"
   ]
  },
  {
   "cell_type": "code",
   "execution_count": 14,
   "id": "f390cafa",
   "metadata": {},
   "outputs": [],
   "source": [
    "abalone_modele1.compile(loss = tf.losses.MeanSquaredError (),\n",
    "                      optimizer = tf.optimizers.Adam ())"
   ]
  },
  {
   "cell_type": "code",
   "execution_count": 16,
   "id": "376daa02",
   "metadata": {
    "scrolled": false
   },
   "outputs": [
    {
     "name": "stdout",
     "output_type": "stream",
     "text": [
      "Epoch 1/18\n",
      "4177/4177 [==============================] - 4s 908us/step - loss: 9.1004\n",
      "Epoch 2/18\n",
      "4177/4177 [==============================] - 4s 934us/step - loss: 5.8659\n",
      "Epoch 3/18\n",
      "4177/4177 [==============================] - 4s 1ms/step - loss: 5.3604\n",
      "Epoch 4/18\n",
      "4177/4177 [==============================] - 5s 1ms/step - loss: 5.1935\n",
      "Epoch 5/18\n",
      "4177/4177 [==============================] - 4s 1ms/step - loss: 5.1791\n",
      "Epoch 6/18\n",
      "4177/4177 [==============================] - 4s 929us/step - loss: 5.1567\n",
      "Epoch 7/18\n",
      "4177/4177 [==============================] - 5s 1ms/step - loss: 5.1944\n",
      "Epoch 8/18\n",
      "4177/4177 [==============================] - 4s 928us/step - loss: 5.1235\n",
      "Epoch 9/18\n",
      "4177/4177 [==============================] - 4s 967us/step - loss: 5.1636\n",
      "Epoch 10/18\n",
      "4177/4177 [==============================] - 4s 1ms/step - loss: 5.1299\n",
      "Epoch 11/18\n",
      "4177/4177 [==============================] - 4s 976us/step - loss: 5.1113\n",
      "Epoch 12/18\n",
      "4177/4177 [==============================] - 4s 960us/step - loss: 5.1117\n",
      "Epoch 13/18\n",
      "4177/4177 [==============================] - 4s 906us/step - loss: 5.0903\n",
      "Epoch 14/18\n",
      "4177/4177 [==============================] - 4s 923us/step - loss: 5.0856\n",
      "Epoch 15/18\n",
      "4177/4177 [==============================] - 4s 995us/step - loss: 5.0996\n",
      "Epoch 16/18\n",
      "4177/4177 [==============================] - 4s 1ms/step - loss: 5.1026\n",
      "Epoch 17/18\n",
      "4177/4177 [==============================] - 4s 977us/step - loss: 5.1027\n",
      "Epoch 18/18\n",
      "4177/4177 [==============================] - 4s 923us/step - loss: 5.1072\n"
     ]
    },
    {
     "data": {
      "text/plain": [
       "<keras.callbacks.History at 0x26b6d338430>"
      ]
     },
     "execution_count": 16,
     "metadata": {},
     "output_type": "execute_result"
    }
   ],
   "source": [
    "abalone_modele1.fit(abalone_features_np, abalone_labels, epochs=18, batch_size=1)"
   ]
  },
  {
   "cell_type": "code",
   "execution_count": 19,
   "id": "7f5f8a69",
   "metadata": {},
   "outputs": [],
   "source": [
    "normalize = layers.Normalization()"
   ]
  },
  {
   "cell_type": "code",
   "execution_count": 22,
   "id": "b2b28ef3",
   "metadata": {
    "scrolled": true
   },
   "outputs": [
    {
     "data": {
      "text/plain": [
       "<bound method PreprocessingLayer.adapt of <keras.layers.preprocessing.normalization.Normalization object at 0x0000026B6CF5EAC0>>"
      ]
     },
     "execution_count": 22,
     "metadata": {},
     "output_type": "execute_result"
    }
   ],
   "source": [
    "normalize.adapt"
   ]
  },
  {
   "cell_type": "code",
   "execution_count": 28,
   "id": "634b4671",
   "metadata": {},
   "outputs": [],
   "source": [
    "norn_abalone_model = tf.keras. Sequential([\n",
    "  normalize,\n",
    "  layers.Dense(64),\n",
    "layers.Dense(1)\n",
    "])\n",
    "norn_abalone_model.compile(loss = tf.losses. MeanSquaredError(),\n",
    "                       optimizer = tf.optimizers.Adam(),\n",
    "                      metrics=['accuracy'])"
   ]
  },
  {
   "cell_type": "code",
   "execution_count": 32,
   "id": "150559e3",
   "metadata": {},
   "outputs": [
    {
     "name": "stdout",
     "output_type": "stream",
     "text": [
      "131/131 - 0s - loss: 116.5997 - accuracy: 0.0000e+00 - 315ms/epoch - 2ms/step\n"
     ]
    },
    {
     "data": {
      "text/plain": [
       "[116.59966278076172, 0.0]"
      ]
     },
     "execution_count": 32,
     "metadata": {},
     "output_type": "execute_result"
    }
   ],
   "source": [
    "norn_abalone_model.evaluate(abalone_features_np, abalone_labels, verbose=2)"
   ]
  },
  {
   "cell_type": "code",
   "execution_count": 36,
   "id": "b8622567",
   "metadata": {},
   "outputs": [],
   "source": [
    "output_model = tf.keras.Sequential([norn_abalone_model])"
   ]
  },
  {
   "cell_type": "code",
   "execution_count": 37,
   "id": "92ed24a5",
   "metadata": {},
   "outputs": [
    {
     "name": "stdout",
     "output_type": "stream",
     "text": [
      "WARNING:tensorflow:Model was constructed with shape (None, 7) for input KerasTensor(type_spec=TensorSpec(shape=(None, 7), dtype=tf.float32, name='normalization_1_input'), name='normalization_1_input', description=\"created by layer 'normalization_1_input'\"), but it was called on an input with incompatible shape (7,).\n"
     ]
    }
   ],
   "source": [
    "array_output = output_model(abalone_features_np[1])\n",
    "label_output = abalone_labels[1]"
   ]
  },
  {
   "cell_type": "code",
   "execution_count": 38,
   "id": "171ec3a1",
   "metadata": {},
   "outputs": [
    {
     "name": "stdout",
     "output_type": "stream",
     "text": [
      "tf.Tensor([[-0.063]], shape=(1, 1), dtype=float32)\n",
      "7\n"
     ]
    }
   ],
   "source": [
    "print (array_output)\n",
    "print (label_output)"
   ]
  },
  {
   "cell_type": "code",
   "execution_count": null,
   "id": "ff7eed40",
   "metadata": {},
   "outputs": [],
   "source": []
  }
 ],
 "metadata": {
  "kernelspec": {
   "display_name": "Python 3",
   "language": "python",
   "name": "python3"
  },
  "language_info": {
   "codemirror_mode": {
    "name": "ipython",
    "version": 3
   },
   "file_extension": ".py",
   "mimetype": "text/x-python",
   "name": "python",
   "nbconvert_exporter": "python",
   "pygments_lexer": "ipython3",
   "version": "3.8.8"
  }
 },
 "nbformat": 4,
 "nbformat_minor": 5
}
