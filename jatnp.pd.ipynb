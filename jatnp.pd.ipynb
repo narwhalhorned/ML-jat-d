{
 "cells": [
  {
   "cell_type": "code",
   "execution_count": 1,
   "id": "dde0ec5f",
   "metadata": {},
   "outputs": [],
   "source": [
    "import pandas as pd\n",
    "import numpy as np"
   ]
  },
  {
   "cell_type": "code",
   "execution_count": 2,
   "id": "d9a524fe",
   "metadata": {
    "scrolled": true
   },
   "outputs": [],
   "source": [
    "np.set_printoptions (precision=3, suppress=True)\n",
    "import tensorflow as tf\n",
    "from tensorflow.keras import layers\n",
    "abalone_train = pd.read_csv(\"abalone.data\",\n",
    "    names=[\"Length\", \"Diameter\", \"Height\", \"Whole weight\", \"Shucked weight\",\n",
    "            \"viscera weight\", \"Shell weight\", \"Age\"])\n",
    "\n"
   ]
  },
  {
   "cell_type": "code",
   "execution_count": 3,
   "id": "754f3f27",
   "metadata": {},
   "outputs": [
    {
     "data": {
      "text/plain": [
       "M    15\n",
       "M     7\n",
       "F     9\n",
       "M    10\n",
       "I     7\n",
       "Name: Age, dtype: int64"
      ]
     },
     "execution_count": 3,
     "metadata": {},
     "output_type": "execute_result"
    }
   ],
   "source": [
    "\n",
    "\n",
    "abalone_features = abalone_train.copy() #input\n",
    "abalone_labels = abalone_features.pop('Age') #labels\n",
    "abalone_labels.head()"
   ]
  },
  {
   "cell_type": "code",
   "execution_count": 4,
   "id": "fbc6d804",
   "metadata": {},
   "outputs": [
    {
     "data": {
      "text/plain": [
       "array([[0.455, 0.365, 0.095, ..., 0.225, 0.101, 0.15 ],\n",
       "       [0.35 , 0.265, 0.09 , ..., 0.1  , 0.049, 0.07 ],\n",
       "       [0.53 , 0.42 , 0.135, ..., 0.257, 0.141, 0.21 ],\n",
       "       ...,\n",
       "       [0.6  , 0.475, 0.205, ..., 0.525, 0.287, 0.308],\n",
       "       [0.625, 0.485, 0.15 , ..., 0.531, 0.261, 0.296],\n",
       "       [0.71 , 0.555, 0.195, ..., 0.946, 0.377, 0.495]])"
      ]
     },
     "execution_count": 4,
     "metadata": {},
     "output_type": "execute_result"
    }
   ],
   "source": [
    "abalone_features_np = np.array(abalone_features)\n",
    "abalone_features_np"
   ]
  },
  {
   "cell_type": "code",
   "execution_count": 5,
   "id": "5709de58",
   "metadata": {},
   "outputs": [
    {
     "data": {
      "text/plain": [
       "(4177, 7)"
      ]
     },
     "execution_count": 5,
     "metadata": {},
     "output_type": "execute_result"
    }
   ],
   "source": [
    "abalone_features_np.shape"
   ]
  },
  {
   "cell_type": "code",
   "execution_count": 6,
   "id": "35f312db",
   "metadata": {},
   "outputs": [],
   "source": [
    "abalone_modele1 = tf.keras.Sequential([\n",
    "  layers.Dense(64),\n",
    "  layers.Dense(1)\n",
    "])"
   ]
  },
  {
   "cell_type": "code",
   "execution_count": 7,
   "id": "66a4a06f",
   "metadata": {},
   "outputs": [],
   "source": [
    "abalone_modele1.compile(loss = tf.losses.MeanSquaredError (),\n",
    "                      optimizer = tf.optimizers.Adam ())"
   ]
  },
  {
   "cell_type": "code",
   "execution_count": 8,
   "id": "35040cf6",
   "metadata": {
    "scrolled": false
   },
   "outputs": [
    {
     "name": "stdout",
     "output_type": "stream",
     "text": [
      "Epoch 1/18\n",
      "4177/4177 [==============================] - 4s 980us/step - loss: 9.0963\n",
      "Epoch 2/18\n",
      "4177/4177 [==============================] - 4s 879us/step - loss: 5.9556\n",
      "Epoch 3/18\n",
      "4177/4177 [==============================] - 4s 909us/step - loss: 5.4185\n",
      "Epoch 4/18\n",
      "4177/4177 [==============================] - 4s 924us/step - loss: 5.2281\n",
      "Epoch 5/18\n",
      "4177/4177 [==============================] - 4s 882us/step - loss: 5.1586\n",
      "Epoch 6/18\n",
      "4177/4177 [==============================] - 4s 943us/step - loss: 5.1696\n",
      "Epoch 7/18\n",
      "4177/4177 [==============================] - 4s 937us/step - loss: 5.1367\n",
      "Epoch 8/18\n",
      "4177/4177 [==============================] - 4s 941us/step - loss: 5.1102\n",
      "Epoch 9/18\n",
      "4177/4177 [==============================] - 4s 926us/step - loss: 5.1445\n",
      "Epoch 10/18\n",
      "4177/4177 [==============================] - 4s 914us/step - loss: 5.1181\n",
      "Epoch 11/18\n",
      "4177/4177 [==============================] - 4s 930us/step - loss: 5.1472\n",
      "Epoch 12/18\n",
      "4177/4177 [==============================] - 4s 939us/step - loss: 5.1125\n",
      "Epoch 13/18\n",
      "4177/4177 [==============================] - 4s 872us/step - loss: 5.1245\n",
      "Epoch 14/18\n",
      "4177/4177 [==============================] - 4s 894us/step - loss: 5.1019\n",
      "Epoch 15/18\n",
      "4177/4177 [==============================] - 4s 961us/step - loss: 5.1161\n",
      "Epoch 16/18\n",
      "4177/4177 [==============================] - 4s 916us/step - loss: 5.0883\n",
      "Epoch 17/18\n",
      "4177/4177 [==============================] - 4s 892us/step - loss: 5.0881\n",
      "Epoch 18/18\n",
      "4177/4177 [==============================] - 4s 900us/step - loss: 5.0960\n"
     ]
    },
    {
     "data": {
      "text/plain": [
       "<keras.callbacks.History at 0x2b72d01bd60>"
      ]
     },
     "execution_count": 8,
     "metadata": {},
     "output_type": "execute_result"
    }
   ],
   "source": [
    "abalone_modele1.fit(abalone_features_np, abalone_labels, epochs=18, batch_size=1)"
   ]
  },
  {
   "cell_type": "code",
   "execution_count": 9,
   "id": "5ee11d5e",
   "metadata": {},
   "outputs": [],
   "source": [
    "normalize = layers.Normalization()"
   ]
  },
  {
   "cell_type": "code",
   "execution_count": 10,
   "id": "52af626f",
   "metadata": {
    "scrolled": true
   },
   "outputs": [],
   "source": [
    "normalize.adapt(abalone_features_np)"
   ]
  },
  {
   "cell_type": "code",
   "execution_count": 11,
   "id": "188208c1",
   "metadata": {},
   "outputs": [],
   "source": [
    "norm_abalone_model = tf.keras. Sequential([\n",
    "  normalize,\n",
    "  layers.Dense(64),\n",
    "layers.Dense(1)\n",
    "])\n",
    "norm_abalone_model.compile(loss = tf.losses. MeanSquaredError(),\n",
    "                       optimizer = tf.optimizers.Adam(),\n",
    "                      metrics=['accuracy'])"
   ]
  },
  {
   "cell_type": "code",
   "execution_count": 12,
   "id": "3c565938",
   "metadata": {},
   "outputs": [
    {
     "name": "stdout",
     "output_type": "stream",
     "text": [
      "131/131 - 0s - loss: 109.6686 - accuracy: 2.3941e-04 - 302ms/epoch - 2ms/step\n"
     ]
    },
    {
     "data": {
      "text/plain": [
       "[109.66863250732422, 0.00023940627579577267]"
      ]
     },
     "execution_count": 12,
     "metadata": {},
     "output_type": "execute_result"
    }
   ],
   "source": [
    "norm_abalone_model.evaluate(abalone_features_np, abalone_labels, verbose=2)"
   ]
  },
  {
   "cell_type": "code",
   "execution_count": 13,
   "id": "406d5a48",
   "metadata": {},
   "outputs": [],
   "source": [
    "output_model = tf.keras.Sequential([norm_abalone_model])"
   ]
  },
  {
   "cell_type": "code",
   "execution_count": 14,
   "id": "f79edd8d",
   "metadata": {},
   "outputs": [],
   "source": [
    "array_output = output_model(abalone_features_np[6])\n",
    "label_output = abalone_labels[6]"
   ]
  },
  {
   "cell_type": "code",
   "execution_count": 15,
   "id": "28eb43a4",
   "metadata": {},
   "outputs": [
    {
     "name": "stdout",
     "output_type": "stream",
     "text": [
      "tf.Tensor([[0.13]], shape=(1, 1), dtype=float32)\n",
      "20\n"
     ]
    }
   ],
   "source": [
    "print (array_output)\n",
    "print (label_output)"
   ]
  },
  {
   "cell_type": "code",
   "execution_count": null,
   "id": "dd279f8f",
   "metadata": {},
   "outputs": [],
   "source": []
  }
 ],
 "metadata": {
  "kernelspec": {
   "display_name": "Python 3",
   "language": "python",
   "name": "python3"
  },
  "language_info": {
   "codemirror_mode": {
    "name": "ipython",
    "version": 3
   },
   "file_extension": ".py",
   "mimetype": "text/x-python",
   "name": "python",
   "nbconvert_exporter": "python",
   "pygments_lexer": "ipython3",
   "version": "3.8.8"
  }
 },
 "nbformat": 4,
 "nbformat_minor": 5
}
